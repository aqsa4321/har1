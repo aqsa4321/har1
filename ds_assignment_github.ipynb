{
 "cells": [
  {
   "cell_type": "markdown",
   "id": "c49ff014",
   "metadata": {},
   "source": [
    "# Dataset\n",
    "\n",
    "Human activity recognition(HAR) is a sensor dataset. The sensor is a wearable accelerometer mounted on the chest. It has three axis named X, Y, Z. The sampling frequency of the accelerometer is 52Hz. According to the sensor's value, we can identify, the activity of human being. The dataset is gathered from 15 participants and the number of activities are 7. \n",
    "\n",
    "There are 15 files in the dataset. One from each participant and each file contains 5 columns, the row number, x, y, and z accelerometer readings and a class number from 0 to 7, where class 0 means “no activity” and classes 1-7 correspond to the activities listed below:\n",
    "\n",
    "1: Working at Computer\n",
    "\n",
    "2: Standing Up, Walking and Going up\\down stairs\n",
    "\n",
    "3: Standing\n",
    "\n",
    "4: Walking\n",
    "\n",
    "5: Going Up\\Down Stairs\n",
    "\n",
    "6: Walking and Talking with Someone\n",
    "\n",
    "7: Talking while Standing\n",
    "\n",
    "       \n",
    "\n",
    "   \n",
    "https://www.kaggle.com/datasets/imsparsh/single-chestmounted-accelerometer"
   ]
  },
  {
   "cell_type": "code",
   "execution_count": 1,
   "id": "0a5005ce",
   "metadata": {},
   "outputs": [
    {
     "name": "stdout",
     "output_type": "stream",
     "text": [
      "Loaded 15 Participants sensors values\n",
      "The size of  data is (1926896, 4)\n"
     ]
    },
    {
     "data": {
      "text/html": [
       "<div>\n",
       "<style scoped>\n",
       "    .dataframe tbody tr th:only-of-type {\n",
       "        vertical-align: middle;\n",
       "    }\n",
       "\n",
       "    .dataframe tbody tr th {\n",
       "        vertical-align: top;\n",
       "    }\n",
       "\n",
       "    .dataframe thead th {\n",
       "        text-align: right;\n",
       "    }\n",
       "</style>\n",
       "<table border=\"1\" class=\"dataframe\">\n",
       "  <thead>\n",
       "    <tr style=\"text-align: right;\">\n",
       "      <th></th>\n",
       "      <th>X_axis</th>\n",
       "      <th>Y_axis</th>\n",
       "      <th>Z_axis</th>\n",
       "      <th>Label</th>\n",
       "    </tr>\n",
       "  </thead>\n",
       "  <tbody>\n",
       "    <tr>\n",
       "      <th>0</th>\n",
       "      <td>1502.0</td>\n",
       "      <td>2215.0</td>\n",
       "      <td>2153.0</td>\n",
       "      <td>1.0</td>\n",
       "    </tr>\n",
       "    <tr>\n",
       "      <th>1</th>\n",
       "      <td>1667.0</td>\n",
       "      <td>2072.0</td>\n",
       "      <td>2047.0</td>\n",
       "      <td>1.0</td>\n",
       "    </tr>\n",
       "    <tr>\n",
       "      <th>2</th>\n",
       "      <td>1611.0</td>\n",
       "      <td>1957.0</td>\n",
       "      <td>1906.0</td>\n",
       "      <td>1.0</td>\n",
       "    </tr>\n",
       "    <tr>\n",
       "      <th>3</th>\n",
       "      <td>1601.0</td>\n",
       "      <td>1939.0</td>\n",
       "      <td>1831.0</td>\n",
       "      <td>1.0</td>\n",
       "    </tr>\n",
       "    <tr>\n",
       "      <th>4</th>\n",
       "      <td>1643.0</td>\n",
       "      <td>1965.0</td>\n",
       "      <td>1879.0</td>\n",
       "      <td>1.0</td>\n",
       "    </tr>\n",
       "    <tr>\n",
       "      <th>...</th>\n",
       "      <td>...</td>\n",
       "      <td>...</td>\n",
       "      <td>...</td>\n",
       "      <td>...</td>\n",
       "    </tr>\n",
       "    <tr>\n",
       "      <th>926891</th>\n",
       "      <td>2024.0</td>\n",
       "      <td>2414.0</td>\n",
       "      <td>1994.0</td>\n",
       "      <td>7.0</td>\n",
       "    </tr>\n",
       "    <tr>\n",
       "      <th>926892</th>\n",
       "      <td>2063.0</td>\n",
       "      <td>2395.0</td>\n",
       "      <td>1987.0</td>\n",
       "      <td>7.0</td>\n",
       "    </tr>\n",
       "    <tr>\n",
       "      <th>926893</th>\n",
       "      <td>2103.0</td>\n",
       "      <td>2371.0</td>\n",
       "      <td>1962.0</td>\n",
       "      <td>7.0</td>\n",
       "    </tr>\n",
       "    <tr>\n",
       "      <th>926894</th>\n",
       "      <td>2147.0</td>\n",
       "      <td>2361.0</td>\n",
       "      <td>1937.0</td>\n",
       "      <td>7.0</td>\n",
       "    </tr>\n",
       "    <tr>\n",
       "      <th>926895</th>\n",
       "      <td>2158.0</td>\n",
       "      <td>2336.0</td>\n",
       "      <td>1941.0</td>\n",
       "      <td>7.0</td>\n",
       "    </tr>\n",
       "  </tbody>\n",
       "</table>\n",
       "<p>926896 rows × 4 columns</p>\n",
       "</div>"
      ],
      "text/plain": [
       "        X_axis  Y_axis  Z_axis  Label\n",
       "0       1502.0  2215.0  2153.0    1.0\n",
       "1       1667.0  2072.0  2047.0    1.0\n",
       "2       1611.0  1957.0  1906.0    1.0\n",
       "3       1601.0  1939.0  1831.0    1.0\n",
       "4       1643.0  1965.0  1879.0    1.0\n",
       "...        ...     ...     ...    ...\n",
       "926891  2024.0  2414.0  1994.0    7.0\n",
       "926892  2063.0  2395.0  1987.0    7.0\n",
       "926893  2103.0  2371.0  1962.0    7.0\n",
       "926894  2147.0  2361.0  1937.0    7.0\n",
       "926895  2158.0  2336.0  1941.0    7.0\n",
       "\n",
       "[926896 rows x 4 columns]"
      ]
     },
     "execution_count": 1,
     "metadata": {},
     "output_type": "execute_result"
    }
   ],
   "source": [
    "# load dataset\n",
    "import numpy as np \n",
    "import pandas as pd \n",
    "import seaborn as sns\n",
    "import matplotlib.pyplot as plt\n",
    "import joblib\n",
    "import warnings\n",
    "warnings.filterwarnings('ignore')\n",
    "from os import listdir\n",
    "from pandas import read_csv\n",
    "\n",
    "\n",
    "\n",
    "# load sequence for each subject, returns a list of numpy arrays\n",
    "def load_dataset(prefix=''):\n",
    "    subjects = list()\n",
    "    directory = prefix + 'HAR/'\n",
    "    for name in listdir(directory):\n",
    "        filename = directory + '/' + name\n",
    "        if not filename.endswith('.csv'):\n",
    "            continue\n",
    "        df = read_csv(filename, header=None)\n",
    "        # drop row number\n",
    "        values = df.values[:, 1:]\n",
    "        subjects.append(values)\n",
    "    return subjects\n",
    "\n",
    "# load\n",
    "subjects = load_dataset()\n",
    "print('Loaded %d Participants sensor''s values' % len(subjects))\n",
    "\n",
    "#test_full = np.vstack((subjects[0:4]))\n",
    "data = np.vstack((subjects))\n",
    "print(\"The size of  data is \" + str(data.shape))\n",
    "#print(\"The size of test data is \" + str(test_full.shape))\n",
    "df = pd.DataFrame(data, columns = ['X_axis','Y_axis','Z_axis', 'Label'])\n",
    "df.head(926896)"
   ]
  },
  {
   "cell_type": "code",
   "execution_count": 2,
   "id": "2ba97665",
   "metadata": {},
   "outputs": [
    {
     "data": {
      "image/png": "[encoded data removed]",
      "text/plain": [
       "<Figure size 640x480 with 1 Axes>"
      ]
     },
     "metadata": {},
     "output_type": "display_data"
    },
    {
     "data": {
      "image/png": "[encoded data removed]",
      "text/plain": [
       "<Figure size 640x480 with 1 Axes>"
      ]
     },
     "metadata": {},
     "output_type": "display_data"
    },
    {
     "data": {
      "image/png": "[encoded data removed]",
      "text/plain": [
       "<Figure size 640x480 with 1 Axes>"
      ]
     },
     "metadata": {},
     "output_type": "display_data"
    },
    {
     "data": {
      "image/png": "[encoded data removed]",
      "text/plain": [
       "<Figure size 640x480 with 1 Axes>"
      ]
     },
     "metadata": {},
     "output_type": "display_data"
    }
   ],
   "source": [
    "from matplotlib import pyplot\n",
    "def plot_subject(subject):\n",
    "    pyplot.figure()\n",
    "    # create a plot for each column\n",
    "    for col in range(subject.shape[1]):\n",
    "        pyplot.subplot(subject.shape[1], 1, col+1)\n",
    "        pyplot.plot(subject[:,col])\n",
    "        pyplot.show()\n",
    "\n",
    "plot_subject(subjects[0])"
   ]
  },
  {
   "cell_type": "code",
   "execution_count": 3,
   "id": "586ac42d",
   "metadata": {},
   "outputs": [
    {
     "data": {
      "image/png": "[encoded data removed]",
      "text/plain": [
       "<Figure size 640x480 with 1 Axes>"
      ]
     },
     "metadata": {},
     "output_type": "display_data"
    }
   ],
   "source": [
    "# returns a list of dict, where each dict has one sequence per activity\n",
    "def group_by_activity(subjects, activities):\n",
    "    grouped = [{a:s[s[:,-1]==a] for a in activities} for s in subjects]\n",
    "    return grouped\n",
    " \n",
    "# calculate total duration in sec for each activity per subject and plot\n",
    "def plot_durations(grouped, activities):\n",
    "    # calculate the lengths for each activity for each subject\n",
    "    freq = 52\n",
    "    durations = [[len(s[a])/freq for s in grouped] for a in activities]\n",
    "    pyplot.boxplot(durations, labels=activities)\n",
    "    pyplot.show()\n",
    "\n",
    "# group traces by activity for each subject\n",
    "activities = [i for i in range(0,8)]\n",
    "grouped = group_by_activity(subjects, activities)\n",
    "# plot durations\n",
    "plot_durations(grouped, activities)"
   ]
  },
  {
   "cell_type": "code",
   "execution_count": 4,
   "id": "4e06f0a6",
   "metadata": {},
   "outputs": [
    {
     "data": {
      "text/plain": [
       "<matplotlib.axes._subplots.AxesSubplot at 0x2a969f00e48>"
      ]
     },
     "execution_count": 4,
     "metadata": {},
     "output_type": "execute_result"
    },
    {
     "data": {
      "image/png": "[encoded data removed]",
      "text/plain": [
       "<Figure size 640x480 with 1 Axes>"
      ]
     },
     "metadata": {},
     "output_type": "display_data"
    }
   ],
   "source": [
    "sns.countplot(data=df, x=\"Label\")"
   ]
  },
  {
   "cell_type": "markdown",
   "id": "8d3d376f",
   "metadata": {},
   "source": [
    "# Data Cleaning \n",
    "Check if there is any NULL or missing value. As we can see below, there is no null values."
   ]
  },
  {
   "cell_type": "code",
   "execution_count": 5,
   "id": "02703c00",
   "metadata": {},
   "outputs": [
    {
     "name": "stdout",
     "output_type": "stream",
     "text": [
      "Missing values are:{}\n",
      "\n",
      "\n",
      "The percentage and number of null values in each axis\n"
     ]
    },
    {
     "data": {
      "text/html": [
       "<div>\n",
       "<style scoped>\n",
       "    .dataframe tbody tr th:only-of-type {\n",
       "        vertical-align: middle;\n",
       "    }\n",
       "\n",
       "    .dataframe tbody tr th {\n",
       "        vertical-align: top;\n",
       "    }\n",
       "\n",
       "    .dataframe thead th {\n",
       "        text-align: right;\n",
       "    }\n",
       "</style>\n",
       "<table border=\"1\" class=\"dataframe\">\n",
       "  <thead>\n",
       "    <tr style=\"text-align: right;\">\n",
       "      <th></th>\n",
       "      <th>Sum</th>\n",
       "      <th>Percentage</th>\n",
       "    </tr>\n",
       "  </thead>\n",
       "  <tbody>\n",
       "    <tr>\n",
       "      <th>X_axis</th>\n",
       "      <td>0</td>\n",
       "      <td>0.0</td>\n",
       "    </tr>\n",
       "    <tr>\n",
       "      <th>Y_axis</th>\n",
       "      <td>0</td>\n",
       "      <td>0.0</td>\n",
       "    </tr>\n",
       "    <tr>\n",
       "      <th>Z_axis</th>\n",
       "      <td>0</td>\n",
       "      <td>0.0</td>\n",
       "    </tr>\n",
       "    <tr>\n",
       "      <th>Label</th>\n",
       "      <td>0</td>\n",
       "      <td>0.0</td>\n",
       "    </tr>\n",
       "  </tbody>\n",
       "</table>\n",
       "</div>"
      ],
      "text/plain": [
       "        Sum  Percentage\n",
       "X_axis    0         0.0\n",
       "Y_axis    0         0.0\n",
       "Z_axis    0         0.0\n",
       "Label     0         0.0"
      ]
     },
     "execution_count": 5,
     "metadata": {},
     "output_type": "execute_result"
    }
   ],
   "source": [
    "def get_missing_values(df):\n",
    "    values = {}\n",
    "    for feat in df.columns:\n",
    "        if df[feat].isna().any():\n",
    "            values[feat] = round(df[feat].mean(),2)\n",
    "    return values\n",
    "\n",
    "values = get_missing_values(df)\n",
    "print('Missing values are:'+ str(values))\n",
    "Sum = df.isnull().sum()\n",
    "Percentage = ( df.isnull().sum()/df.isnull().count())\n",
    "print('\\n\\nThe percentage and number of null values in each axis')\n",
    "pd.concat([Sum,Percentage], axis =1, keys= ['Sum', 'Percentage'])"
   ]
  },
  {
   "cell_type": "markdown",
   "id": "190624ac",
   "metadata": {},
   "source": [
    "# Sliding Windows\n",
    "\n",
    "The sensor's values are taken at frequency of 52 Hz. It means 52 rows are recorded by accelerometer per second. The best approach to handle this time series problem is sliding windows. In sliding windows, we make an example using data points of few seconds. For instance, if we want to take values of 8 seconds then we'll pick 416 points at a time. For the next example/sample, we can either slide to next 416 points or we can overlap the few previous example points. I'm taking 50% overlapping.\n",
    "\n"
   ]
  },
  {
   "cell_type": "code",
   "execution_count": 6,
   "id": "218c1f1f",
   "metadata": {},
   "outputs": [],
   "source": [
    "from scipy import stats\n",
    "def prep(data, window, step):\n",
    "\n",
    "    x_list = []\n",
    "    y_list = []\n",
    "    z_list = []\n",
    "    labels = []\n",
    "\n",
    "\n",
    "    window_size = window\n",
    "    step_size = step\n",
    "\n",
    "    # creating overlaping windows of size window-size 100\n",
    "    for i in range(0, data.shape[0] - window_size, step_size):\n",
    "        x = data.iloc[i: i + window_size,0]\n",
    "        y = data.iloc[i: i + window_size,1]\n",
    "        z = data.iloc[i: i + window_size,2]\n",
    "        label = stats.mode(data.iloc[i: i + window_size,3])[0][0]\n",
    "\n",
    "        x_list.append(x)\n",
    "        y_list.append(y)\n",
    "        z_list.append(z)\n",
    "        labels.append(label)\n",
    "    \n",
    "    return x_list,y_list, z_list, labels"
   ]
  },
  {
   "cell_type": "code",
   "execution_count": 7,
   "id": "b65ff4a5",
   "metadata": {},
   "outputs": [],
   "source": [
    "frequency = 52\n",
    "window_size = frequency*8\n",
    "overlap = int(window_size/2)\n",
    "x_list, y_list, z_list, Labels_list =  prep(df, window_size,overlap)"
   ]
  },
  {
   "cell_type": "code",
   "execution_count": 8,
   "id": "190281e3",
   "metadata": {},
   "outputs": [
    {
     "name": "stdout",
     "output_type": "stream",
     "text": [
      "Sliding through X_axis gives number of samples:(9262, 416)\n",
      "Sliding through Y_axis gives number of samples:(9262, 416)\n",
      "Sliding through Z_axis gives number of samples:(9262, 416)\n",
      "Sliding through labels and select the most occuring class gives:9262\n",
      "\n",
      "Combining the examples from all the sensors, the final shape of the dataset will be:(9262,1664)\n"
     ]
    }
   ],
   "source": [
    "x_listt = np.array(x_list)\n",
    "print('Sliding through X_axis gives number of samples:' +  str(x_listt.shape))\n",
    "print('Sliding through Y_axis gives number of samples:' +  str(x_listt.shape))\n",
    "print('Sliding through Z_axis gives number of samples:' +  str(x_listt.shape))\n",
    "print('Sliding through labels and select the most occuring class gives:' +  str(len(Labels_list)))\n",
    "\n",
    "print('\\nCombining the examples from all the sensors, the final shape of the dataset will be:'+ '(' +str(x_listt.shape[0]) +','+ str(x_listt.shape[1]*4)+')' )"
   ]
  },
  {
   "cell_type": "code",
   "execution_count": 9,
   "id": "1a87a924",
   "metadata": {},
   "outputs": [],
   "source": [
    "import numpy as np\n",
    "import pandas as pd\n",
    "import matplotlib.pyplot as plt\n",
    "import seaborn as sns\n",
    "from scipy import stats\n",
    "from scipy.signal import find_peaks\n",
    "import warnings\n",
    "warnings.filterwarnings('ignore')\n",
    "# Statistical Features on raw x, y and z in time domain\n",
    "X_train = pd.DataFrame()\n",
    "\n",
    "# mean\n",
    "X_train['x_mean'] = pd.Series(x_list).apply(lambda x: x.mean())\n",
    "X_train['y_mean'] = pd.Series(y_list).apply(lambda x: x.mean())\n",
    "X_train['z_mean'] = pd.Series(z_list).apply(lambda x: x.mean())\n",
    "\n",
    "# std dev\n",
    "X_train['x_std'] = pd.Series(x_list).apply(lambda x: x.std())\n",
    "X_train['y_std'] = pd.Series(y_list).apply(lambda x: x.std())\n",
    "X_train['z_std'] = pd.Series(z_list).apply(lambda x: x.std())\n",
    "\n",
    "\"\"\"# avg absolute diff\n",
    "X_train['x_aad'] = pd.Series(x_list).apply(lambda x: np.mean(np.absolute(x - np.mean(x))))\n",
    "X_train['y_aad'] = pd.Series(y_list).apply(lambda x: np.mean(np.absolute(x - np.mean(x))))\n",
    "X_train['z_aad'] = pd.Series(z_list).apply(lambda x: np.mean(np.absolute(x - np.mean(x))))\n",
    "\n",
    "# min\n",
    "X_train['x_min'] = pd.Series(x_list).apply(lambda x: x.min())\n",
    "X_train['y_min'] = pd.Series(y_list).apply(lambda x: x.min())\n",
    "X_train['z_min'] = pd.Series(z_list).apply(lambda x: x.min())\n",
    "\n",
    "# max\n",
    "X_train['x_max'] = pd.Series(x_list).apply(lambda x: x.max())\n",
    "X_train['y_max'] = pd.Series(y_list).apply(lambda x: x.max())\n",
    "X_train['z_max'] = pd.Series(z_list).apply(lambda x: x.max())\n",
    "\n",
    "# max-min diff\n",
    "X_train['x_maxmin_diff'] = X_train['x_max'] - X_train['x_min']\n",
    "X_train['y_maxmin_diff'] = X_train['y_max'] - X_train['y_min']\n",
    "X_train['z_maxmin_diff'] = X_train['z_max'] - X_train['z_min']\n",
    "\n",
    "# median\n",
    "X_train['x_median'] = pd.Series(x_list).apply(lambda x: np.median(x))\n",
    "X_train['y_median'] = pd.Series(y_list).apply(lambda x: np.median(x))\n",
    "X_train['z_median'] = pd.Series(z_list).apply(lambda x: np.median(x))\n",
    "\n",
    "# median abs dev \n",
    "X_train['x_mad'] = pd.Series(x_list).apply(lambda x: np.median(np.absolute(x - np.median(x))))\n",
    "X_train['y_mad'] = pd.Series(y_list).apply(lambda x: np.median(np.absolute(x - np.median(x))))\n",
    "X_train['z_mad'] = pd.Series(z_list).apply(lambda x: np.median(np.absolute(x - np.median(x))))\n",
    "\n",
    "# interquartile range\n",
    "X_train['x_IQR'] = pd.Series(x_list).apply(lambda x: np.percentile(x, 75) - np.percentile(x, 25))\n",
    "X_train['y_IQR'] = pd.Series(y_list).apply(lambda x: np.percentile(x, 75) - np.percentile(x, 25))\n",
    "X_train['z_IQR'] = pd.Series(z_list).apply(lambda x: np.percentile(x, 75) - np.percentile(x, 25))\"\"\"\n",
    "\n",
    "\"\"\"# negtive count\n",
    "X_train['x_neg_count'] = pd.Series(x_list).apply(lambda x: np.sum(x < 0))\n",
    "X_train['y_neg_count'] = pd.Series(y_list).apply(lambda x: np.sum(x < 0))\n",
    "X_train['z_neg_count'] = pd.Series(z_list).apply(lambda x: np.sum(x < 0))\n",
    "\n",
    "# positive count\n",
    "X_train['x_pos_count'] = pd.Series(x_list).apply(lambda x: np.sum(x > 0))\n",
    "X_train['y_pos_count'] = pd.Series(y_list).apply(lambda x: np.sum(x > 0))\n",
    "X_train['z_pos_count'] = pd.Series(z_list).apply(lambda x: np.sum(x > 0))\n",
    "\n",
    "# values above mean\n",
    "X_train['x_above_mean'] = pd.Series(x_list).apply(lambda x: np.sum(x > x.mean()))\n",
    "X_train['y_above_mean'] = pd.Series(y_list).apply(lambda x: np.sum(x > x.mean()))\n",
    "X_train['z_above_mean'] = pd.Series(z_list).apply(lambda x: np.sum(x > x.mean()))\"\"\"\n",
    "\n",
    "# number of peaks\n",
    "X_train['x_peak_count'] = pd.Series(x_list).apply(lambda x: len(find_peaks(x)[0]))\n",
    "X_train['y_peak_count'] = pd.Series(y_list).apply(lambda x: len(find_peaks(x)[0]))\n",
    "X_train['z_peak_count'] = pd.Series(z_list).apply(lambda x: len(find_peaks(x)[0]))\n",
    "\n",
    "# skewness\n",
    "X_train['x_skewness'] = pd.Series(x_list).apply(lambda x: stats.skew(x))\n",
    "X_train['y_skewness'] = pd.Series(y_list).apply(lambda x: stats.skew(x))\n",
    "X_train['z_skewness'] = pd.Series(z_list).apply(lambda x: stats.skew(x))\n",
    "\n",
    "# kurtosis\n",
    "X_train['x_kurtosis'] = pd.Series(x_list).apply(lambda x: stats.kurtosis(x))\n",
    "X_train['y_kurtosis'] = pd.Series(y_list).apply(lambda x: stats.kurtosis(x))\n",
    "X_train['z_kurtosis'] = pd.Series(z_list).apply(lambda x: stats.kurtosis(x))\n",
    "\n",
    "\n",
    "# energy\n",
    "X_train['x_energy'] = pd.Series(x_list).apply(lambda x: np.sum(x**2)/window_size)\n",
    "X_train['y_energy'] = pd.Series(y_list).apply(lambda x: np.sum(x**2)/window_size)\n",
    "X_train['z_energy'] = pd.Series(z_list).apply(lambda x: np.sum(x**2/window_size))"
   ]
  },
  {
   "cell_type": "code",
   "execution_count": 10,
   "id": "25a8d770",
   "metadata": {},
   "outputs": [
    {
     "data": {
      "text/plain": [
       "(9262, 18)"
      ]
     },
     "execution_count": 10,
     "metadata": {},
     "output_type": "execute_result"
    }
   ],
   "source": [
    "X_train.shape"
   ]
  },
  {
   "cell_type": "code",
   "execution_count": 11,
   "id": "fa5940a3",
   "metadata": {
    "scrolled": true
   },
   "outputs": [
    {
     "data": {
      "text/html": [
       "<div>\n",
       "<style scoped>\n",
       "    .dataframe tbody tr th:only-of-type {\n",
       "        vertical-align: middle;\n",
       "    }\n",
       "\n",
       "    .dataframe tbody tr th {\n",
       "        vertical-align: top;\n",
       "    }\n",
       "\n",
       "    .dataframe thead th {\n",
       "        text-align: right;\n",
       "    }\n",
       "</style>\n",
       "<table border=\"1\" class=\"dataframe\">\n",
       "  <thead>\n",
       "    <tr style=\"text-align: right;\">\n",
       "      <th></th>\n",
       "      <th>x_mean</th>\n",
       "      <th>y_mean</th>\n",
       "      <th>z_mean</th>\n",
       "      <th>x_std</th>\n",
       "      <th>y_std</th>\n",
       "      <th>z_std</th>\n",
       "      <th>x_peak_count</th>\n",
       "      <th>y_peak_count</th>\n",
       "      <th>z_peak_count</th>\n",
       "      <th>x_skewness</th>\n",
       "      <th>y_skewness</th>\n",
       "      <th>z_skewness</th>\n",
       "      <th>x_kurtosis</th>\n",
       "      <th>y_kurtosis</th>\n",
       "      <th>z_kurtosis</th>\n",
       "      <th>x_energy</th>\n",
       "      <th>y_energy</th>\n",
       "      <th>z_energy</th>\n",
       "    </tr>\n",
       "  </thead>\n",
       "  <tbody>\n",
       "    <tr>\n",
       "      <th>0</th>\n",
       "      <td>1880.098558</td>\n",
       "      <td>2271.961538</td>\n",
       "      <td>2049.192308</td>\n",
       "      <td>187.727122</td>\n",
       "      <td>153.286167</td>\n",
       "      <td>135.816448</td>\n",
       "      <td>98</td>\n",
       "      <td>111</td>\n",
       "      <td>92</td>\n",
       "      <td>-0.368560</td>\n",
       "      <td>-1.074270</td>\n",
       "      <td>-0.126052</td>\n",
       "      <td>-0.798240</td>\n",
       "      <td>0.195621</td>\n",
       "      <td>1.719788</td>\n",
       "      <td>3.569927e+06</td>\n",
       "      <td>5.185249e+06</td>\n",
       "      <td>4.217591e+06</td>\n",
       "    </tr>\n",
       "    <tr>\n",
       "      <th>1</th>\n",
       "      <td>1959.889423</td>\n",
       "      <td>2373.353365</td>\n",
       "      <td>2119.915865</td>\n",
       "      <td>36.767289</td>\n",
       "      <td>31.935366</td>\n",
       "      <td>62.552995</td>\n",
       "      <td>102</td>\n",
       "      <td>107</td>\n",
       "      <td>92</td>\n",
       "      <td>-0.370111</td>\n",
       "      <td>-0.128232</td>\n",
       "      <td>0.830077</td>\n",
       "      <td>5.750125</td>\n",
       "      <td>7.692230</td>\n",
       "      <td>2.575066</td>\n",
       "      <td>3.842515e+06</td>\n",
       "      <td>5.633824e+06</td>\n",
       "      <td>4.497947e+06</td>\n",
       "    </tr>\n",
       "    <tr>\n",
       "      <th>2</th>\n",
       "      <td>1959.723558</td>\n",
       "      <td>2377.007212</td>\n",
       "      <td>2116.447115</td>\n",
       "      <td>10.108235</td>\n",
       "      <td>7.706824</td>\n",
       "      <td>16.596475</td>\n",
       "      <td>109</td>\n",
       "      <td>104</td>\n",
       "      <td>108</td>\n",
       "      <td>0.002457</td>\n",
       "      <td>-0.461198</td>\n",
       "      <td>-0.231989</td>\n",
       "      <td>0.944467</td>\n",
       "      <td>4.598112</td>\n",
       "      <td>0.668374</td>\n",
       "      <td>3.840618e+06</td>\n",
       "      <td>5.650223e+06</td>\n",
       "      <td>4.479623e+06</td>\n",
       "    </tr>\n",
       "    <tr>\n",
       "      <th>3</th>\n",
       "      <td>1955.550481</td>\n",
       "      <td>2379.911058</td>\n",
       "      <td>2105.769231</td>\n",
       "      <td>11.402065</td>\n",
       "      <td>8.181629</td>\n",
       "      <td>16.385995</td>\n",
       "      <td>98</td>\n",
       "      <td>100</td>\n",
       "      <td>96</td>\n",
       "      <td>0.298748</td>\n",
       "      <td>-0.279311</td>\n",
       "      <td>0.808923</td>\n",
       "      <td>1.000641</td>\n",
       "      <td>3.560760</td>\n",
       "      <td>1.903268</td>\n",
       "      <td>3.824307e+06</td>\n",
       "      <td>5.664043e+06</td>\n",
       "      <td>4.434532e+06</td>\n",
       "    </tr>\n",
       "    <tr>\n",
       "      <th>4</th>\n",
       "      <td>1959.329327</td>\n",
       "      <td>2379.706731</td>\n",
       "      <td>2107.593750</td>\n",
       "      <td>10.454247</td>\n",
       "      <td>6.356900</td>\n",
       "      <td>11.339699</td>\n",
       "      <td>109</td>\n",
       "      <td>108</td>\n",
       "      <td>98</td>\n",
       "      <td>-0.658759</td>\n",
       "      <td>0.661290</td>\n",
       "      <td>-0.367578</td>\n",
       "      <td>0.785470</td>\n",
       "      <td>2.393878</td>\n",
       "      <td>0.755356</td>\n",
       "      <td>3.839080e+06</td>\n",
       "      <td>5.663044e+06</td>\n",
       "      <td>4.442080e+06</td>\n",
       "    </tr>\n",
       "  </tbody>\n",
       "</table>\n",
       "</div>"
      ],
      "text/plain": [
       "        x_mean       y_mean       z_mean       x_std       y_std       z_std  \\\n",
       "0  1880.098558  2271.961538  2049.192308  187.727122  153.286167  135.816448   \n",
       "1  1959.889423  2373.353365  2119.915865   36.767289   31.935366   62.552995   \n",
       "2  1959.723558  2377.007212  2116.447115   10.108235    7.706824   16.596475   \n",
       "3  1955.550481  2379.911058  2105.769231   11.402065    8.181629   16.385995   \n",
       "4  1959.329327  2379.706731  2107.593750   10.454247    6.356900   11.339699   \n",
       "\n",
       "   x_peak_count  y_peak_count  z_peak_count  x_skewness  y_skewness  \\\n",
       "0            98           111            92   -0.368560   -1.074270   \n",
       "1           102           107            92   -0.370111   -0.128232   \n",
       "2           109           104           108    0.002457   -0.461198   \n",
       "3            98           100            96    0.298748   -0.279311   \n",
       "4           109           108            98   -0.658759    0.661290   \n",
       "\n",
       "   z_skewness  x_kurtosis  y_kurtosis  z_kurtosis      x_energy      y_energy  \\\n",
       "0   -0.126052   -0.798240    0.195621    1.719788  3.569927e+06  5.185249e+06   \n",
       "1    0.830077    5.750125    7.692230    2.575066  3.842515e+06  5.633824e+06   \n",
       "2   -0.231989    0.944467    4.598112    0.668374  3.840618e+06  5.650223e+06   \n",
       "3    0.808923    1.000641    3.560760    1.903268  3.824307e+06  5.664043e+06   \n",
       "4   -0.367578    0.785470    2.393878    0.755356  3.839080e+06  5.663044e+06   \n",
       "\n",
       "       z_energy  \n",
       "0  4.217591e+06  \n",
       "1  4.497947e+06  \n",
       "2  4.479623e+06  \n",
       "3  4.434532e+06  \n",
       "4  4.442080e+06  "
      ]
     },
     "execution_count": 11,
     "metadata": {},
     "output_type": "execute_result"
    }
   ],
   "source": [
    "X_train.head()"
   ]
  },
  {
   "cell_type": "code",
   "execution_count": 12,
   "id": "d95f1e6f",
   "metadata": {},
   "outputs": [],
   "source": [
    "def feature_normalize(dataset):\n",
    "\n",
    "    mu = np.mean(dataset, axis=0)\n",
    "    sigma = np.std(dataset, axis=0)\n",
    "    return (dataset - mu)/sigma"
   ]
  },
  {
   "cell_type": "code",
   "execution_count": 13,
   "id": "0b55f4a4",
   "metadata": {},
   "outputs": [],
   "source": [
    "X_train_new = X_train.copy()\n",
    "X_train_new = feature_normalize(X_train_new)"
   ]
  },
  {
   "cell_type": "code",
   "execution_count": 14,
   "id": "6dd56535",
   "metadata": {},
   "outputs": [
    {
     "data": {
      "text/html": [
       "<div>\n",
       "<style scoped>\n",
       "    .dataframe tbody tr th:only-of-type {\n",
       "        vertical-align: middle;\n",
       "    }\n",
       "\n",
       "    .dataframe tbody tr th {\n",
       "        vertical-align: top;\n",
       "    }\n",
       "\n",
       "    .dataframe thead th {\n",
       "        text-align: right;\n",
       "    }\n",
       "</style>\n",
       "<table border=\"1\" class=\"dataframe\">\n",
       "  <thead>\n",
       "    <tr style=\"text-align: right;\">\n",
       "      <th></th>\n",
       "      <th>x_mean</th>\n",
       "      <th>y_mean</th>\n",
       "      <th>z_mean</th>\n",
       "      <th>x_std</th>\n",
       "      <th>y_std</th>\n",
       "      <th>z_std</th>\n",
       "      <th>x_peak_count</th>\n",
       "      <th>y_peak_count</th>\n",
       "      <th>z_peak_count</th>\n",
       "      <th>x_skewness</th>\n",
       "      <th>y_skewness</th>\n",
       "      <th>z_skewness</th>\n",
       "      <th>x_kurtosis</th>\n",
       "      <th>y_kurtosis</th>\n",
       "      <th>z_kurtosis</th>\n",
       "      <th>x_energy</th>\n",
       "      <th>y_energy</th>\n",
       "      <th>z_energy</th>\n",
       "    </tr>\n",
       "  </thead>\n",
       "  <tbody>\n",
       "    <tr>\n",
       "      <th>0</th>\n",
       "      <td>-1.018692</td>\n",
       "      <td>-1.259485</td>\n",
       "      <td>0.912310</td>\n",
       "      <td>6.218945</td>\n",
       "      <td>3.193641</td>\n",
       "      <td>3.776251</td>\n",
       "      <td>-0.274806</td>\n",
       "      <td>0.460134</td>\n",
       "      <td>-0.417341</td>\n",
       "      <td>-0.593141</td>\n",
       "      <td>-1.577171</td>\n",
       "      <td>-0.289346</td>\n",
       "      <td>-0.444449</td>\n",
       "      <td>-0.246433</td>\n",
       "      <td>0.009448</td>\n",
       "      <td>-0.942365</td>\n",
       "      <td>-1.200943</td>\n",
       "      <td>0.976258</td>\n",
       "    </tr>\n",
       "    <tr>\n",
       "      <th>1</th>\n",
       "      <td>-0.262930</td>\n",
       "      <td>-0.104323</td>\n",
       "      <td>1.733102</td>\n",
       "      <td>0.498757</td>\n",
       "      <td>0.072626</td>\n",
       "      <td>1.269806</td>\n",
       "      <td>-0.102812</td>\n",
       "      <td>0.319175</td>\n",
       "      <td>-0.417341</td>\n",
       "      <td>-0.595114</td>\n",
       "      <td>-0.427327</td>\n",
       "      <td>0.866201</td>\n",
       "      <td>0.789503</td>\n",
       "      <td>0.581658</td>\n",
       "      <td>0.144598</td>\n",
       "      <td>-0.289095</td>\n",
       "      <td>-0.126018</td>\n",
       "      <td>1.817191</td>\n",
       "    </tr>\n",
       "    <tr>\n",
       "      <th>2</th>\n",
       "      <td>-0.264501</td>\n",
       "      <td>-0.062694</td>\n",
       "      <td>1.692845</td>\n",
       "      <td>-0.511411</td>\n",
       "      <td>-0.550507</td>\n",
       "      <td>-0.302431</td>\n",
       "      <td>0.198178</td>\n",
       "      <td>0.213456</td>\n",
       "      <td>0.270707</td>\n",
       "      <td>-0.121164</td>\n",
       "      <td>-0.832025</td>\n",
       "      <td>-0.417379</td>\n",
       "      <td>-0.116059</td>\n",
       "      <td>0.239875</td>\n",
       "      <td>-0.156696</td>\n",
       "      <td>-0.293640</td>\n",
       "      <td>-0.086721</td>\n",
       "      <td>1.762229</td>\n",
       "    </tr>\n",
       "    <tr>\n",
       "      <th>3</th>\n",
       "      <td>-0.304028</td>\n",
       "      <td>-0.029610</td>\n",
       "      <td>1.568921</td>\n",
       "      <td>-0.462385</td>\n",
       "      <td>-0.538295</td>\n",
       "      <td>-0.309632</td>\n",
       "      <td>-0.274806</td>\n",
       "      <td>0.072496</td>\n",
       "      <td>-0.245329</td>\n",
       "      <td>0.255754</td>\n",
       "      <td>-0.610953</td>\n",
       "      <td>0.840636</td>\n",
       "      <td>-0.105474</td>\n",
       "      <td>0.125287</td>\n",
       "      <td>0.038441</td>\n",
       "      <td>-0.332730</td>\n",
       "      <td>-0.053602</td>\n",
       "      <td>1.626977</td>\n",
       "    </tr>\n",
       "    <tr>\n",
       "      <th>4</th>\n",
       "      <td>-0.268235</td>\n",
       "      <td>-0.031938</td>\n",
       "      <td>1.590096</td>\n",
       "      <td>-0.498299</td>\n",
       "      <td>-0.585225</td>\n",
       "      <td>-0.482273</td>\n",
       "      <td>0.198178</td>\n",
       "      <td>0.354415</td>\n",
       "      <td>-0.159323</td>\n",
       "      <td>-0.962309</td>\n",
       "      <td>0.532283</td>\n",
       "      <td>-0.581248</td>\n",
       "      <td>-0.146020</td>\n",
       "      <td>-0.003609</td>\n",
       "      <td>-0.142951</td>\n",
       "      <td>-0.297326</td>\n",
       "      <td>-0.055996</td>\n",
       "      <td>1.649617</td>\n",
       "    </tr>\n",
       "  </tbody>\n",
       "</table>\n",
       "</div>"
      ],
      "text/plain": [
       "     x_mean    y_mean    z_mean     x_std     y_std     z_std  x_peak_count  \\\n",
       "0 -1.018692 -1.259485  0.912310  6.218945  3.193641  3.776251     -0.274806   \n",
       "1 -0.262930 -0.104323  1.733102  0.498757  0.072626  1.269806     -0.102812   \n",
       "2 -0.264501 -0.062694  1.692845 -0.511411 -0.550507 -0.302431      0.198178   \n",
       "3 -0.304028 -0.029610  1.568921 -0.462385 -0.538295 -0.309632     -0.274806   \n",
       "4 -0.268235 -0.031938  1.590096 -0.498299 -0.585225 -0.482273      0.198178   \n",
       "\n",
       "   y_peak_count  z_peak_count  x_skewness  y_skewness  z_skewness  x_kurtosis  \\\n",
       "0      0.460134     -0.417341   -0.593141   -1.577171   -0.289346   -0.444449   \n",
       "1      0.319175     -0.417341   -0.595114   -0.427327    0.866201    0.789503   \n",
       "2      0.213456      0.270707   -0.121164   -0.832025   -0.417379   -0.116059   \n",
       "3      0.072496     -0.245329    0.255754   -0.610953    0.840636   -0.105474   \n",
       "4      0.354415     -0.159323   -0.962309    0.532283   -0.581248   -0.146020   \n",
       "\n",
       "   y_kurtosis  z_kurtosis  x_energy  y_energy  z_energy  \n",
       "0   -0.246433    0.009448 -0.942365 -1.200943  0.976258  \n",
       "1    0.581658    0.144598 -0.289095 -0.126018  1.817191  \n",
       "2    0.239875   -0.156696 -0.293640 -0.086721  1.762229  \n",
       "3    0.125287    0.038441 -0.332730 -0.053602  1.626977  \n",
       "4   -0.003609   -0.142951 -0.297326 -0.055996  1.649617  "
      ]
     },
     "execution_count": 14,
     "metadata": {},
     "output_type": "execute_result"
    }
   ],
   "source": [
    "X_train_new.head()"
   ]
  },
  {
   "cell_type": "code",
   "execution_count": 15,
   "id": "3894ea75",
   "metadata": {},
   "outputs": [
    {
     "data": {
      "text/plain": [
       "x_mean           2.694225\n",
       "y_mean           1.926763\n",
       "z_mean           2.538159\n",
       "x_std           13.327768\n",
       "y_std           12.422697\n",
       "z_std           17.171522\n",
       "x_peak_count     1.660128\n",
       "y_peak_count     1.552569\n",
       "z_peak_count     1.818816\n",
       "x_skewness      11.690525\n",
       "y_skewness      17.276909\n",
       "z_skewness      10.983176\n",
       "x_kurtosis      26.262135\n",
       "y_kurtosis      28.449946\n",
       "z_kurtosis      34.769661\n",
       "x_energy         3.106849\n",
       "y_energy         2.010137\n",
       "z_energy         2.702127\n",
       "dtype: float64"
      ]
     },
     "execution_count": 15,
     "metadata": {},
     "output_type": "execute_result"
    }
   ],
   "source": [
    "X_train_new.max()"
   ]
  },
  {
   "cell_type": "code",
   "execution_count": 16,
   "id": "be85737b",
   "metadata": {},
   "outputs": [
    {
     "name": "stdout",
     "output_type": "stream",
     "text": [
      "Missing values are:{}\n",
      "\n",
      "\n",
      "The percentage and number of null values in each axis\n"
     ]
    },
    {
     "data": {
      "text/html": [
       "<div>\n",
       "<style scoped>\n",
       "    .dataframe tbody tr th:only-of-type {\n",
       "        vertical-align: middle;\n",
       "    }\n",
       "\n",
       "    .dataframe tbody tr th {\n",
       "        vertical-align: top;\n",
       "    }\n",
       "\n",
       "    .dataframe thead th {\n",
       "        text-align: right;\n",
       "    }\n",
       "</style>\n",
       "<table border=\"1\" class=\"dataframe\">\n",
       "  <thead>\n",
       "    <tr style=\"text-align: right;\">\n",
       "      <th></th>\n",
       "      <th>Sum</th>\n",
       "      <th>Percentage</th>\n",
       "    </tr>\n",
       "  </thead>\n",
       "  <tbody>\n",
       "    <tr>\n",
       "      <th>x_mean</th>\n",
       "      <td>0</td>\n",
       "      <td>0.0</td>\n",
       "    </tr>\n",
       "    <tr>\n",
       "      <th>y_mean</th>\n",
       "      <td>0</td>\n",
       "      <td>0.0</td>\n",
       "    </tr>\n",
       "    <tr>\n",
       "      <th>z_mean</th>\n",
       "      <td>0</td>\n",
       "      <td>0.0</td>\n",
       "    </tr>\n",
       "    <tr>\n",
       "      <th>x_std</th>\n",
       "      <td>0</td>\n",
       "      <td>0.0</td>\n",
       "    </tr>\n",
       "    <tr>\n",
       "      <th>y_std</th>\n",
       "      <td>0</td>\n",
       "      <td>0.0</td>\n",
       "    </tr>\n",
       "    <tr>\n",
       "      <th>z_std</th>\n",
       "      <td>0</td>\n",
       "      <td>0.0</td>\n",
       "    </tr>\n",
       "    <tr>\n",
       "      <th>x_peak_count</th>\n",
       "      <td>0</td>\n",
       "      <td>0.0</td>\n",
       "    </tr>\n",
       "    <tr>\n",
       "      <th>y_peak_count</th>\n",
       "      <td>0</td>\n",
       "      <td>0.0</td>\n",
       "    </tr>\n",
       "    <tr>\n",
       "      <th>z_peak_count</th>\n",
       "      <td>0</td>\n",
       "      <td>0.0</td>\n",
       "    </tr>\n",
       "    <tr>\n",
       "      <th>x_skewness</th>\n",
       "      <td>0</td>\n",
       "      <td>0.0</td>\n",
       "    </tr>\n",
       "    <tr>\n",
       "      <th>y_skewness</th>\n",
       "      <td>0</td>\n",
       "      <td>0.0</td>\n",
       "    </tr>\n",
       "    <tr>\n",
       "      <th>z_skewness</th>\n",
       "      <td>0</td>\n",
       "      <td>0.0</td>\n",
       "    </tr>\n",
       "    <tr>\n",
       "      <th>x_kurtosis</th>\n",
       "      <td>0</td>\n",
       "      <td>0.0</td>\n",
       "    </tr>\n",
       "    <tr>\n",
       "      <th>y_kurtosis</th>\n",
       "      <td>0</td>\n",
       "      <td>0.0</td>\n",
       "    </tr>\n",
       "    <tr>\n",
       "      <th>z_kurtosis</th>\n",
       "      <td>0</td>\n",
       "      <td>0.0</td>\n",
       "    </tr>\n",
       "    <tr>\n",
       "      <th>x_energy</th>\n",
       "      <td>0</td>\n",
       "      <td>0.0</td>\n",
       "    </tr>\n",
       "    <tr>\n",
       "      <th>y_energy</th>\n",
       "      <td>0</td>\n",
       "      <td>0.0</td>\n",
       "    </tr>\n",
       "    <tr>\n",
       "      <th>z_energy</th>\n",
       "      <td>0</td>\n",
       "      <td>0.0</td>\n",
       "    </tr>\n",
       "  </tbody>\n",
       "</table>\n",
       "</div>"
      ],
      "text/plain": [
       "              Sum  Percentage\n",
       "x_mean          0         0.0\n",
       "y_mean          0         0.0\n",
       "z_mean          0         0.0\n",
       "x_std           0         0.0\n",
       "y_std           0         0.0\n",
       "z_std           0         0.0\n",
       "x_peak_count    0         0.0\n",
       "y_peak_count    0         0.0\n",
       "z_peak_count    0         0.0\n",
       "x_skewness      0         0.0\n",
       "y_skewness      0         0.0\n",
       "z_skewness      0         0.0\n",
       "x_kurtosis      0         0.0\n",
       "y_kurtosis      0         0.0\n",
       "z_kurtosis      0         0.0\n",
       "x_energy        0         0.0\n",
       "y_energy        0         0.0\n",
       "z_energy        0         0.0"
      ]
     },
     "execution_count": 16,
     "metadata": {},
     "output_type": "execute_result"
    }
   ],
   "source": [
    "values = get_missing_values(X_train_new)\n",
    "print('Missing values are:'+ str(values))\n",
    "Sum = X_train_new.isnull().sum()\n",
    "Percentage = ( X_train_new.isnull().sum()/X_train_new.isnull().count())\n",
    "print('\\n\\nThe percentage and number of null values in each axis')\n",
    "pd.concat([Sum,Percentage], axis =1, keys= ['Sum', 'Percentage'])"
   ]
  },
  {
   "cell_type": "code",
   "execution_count": 17,
   "id": "d4f818e6",
   "metadata": {},
   "outputs": [],
   "source": [
    "X_train_new['labels'] = Labels_list"
   ]
  },
  {
   "cell_type": "code",
   "execution_count": 18,
   "id": "592b84a1",
   "metadata": {
    "scrolled": false
   },
   "outputs": [
    {
     "data": {
      "text/plain": [
       "<matplotlib.axes._subplots.AxesSubplot at 0x2a9011e9c08>"
      ]
     },
     "execution_count": 18,
     "metadata": {},
     "output_type": "execute_result"
    },
    {
     "data": {
      "image/png": "[encoded data removed]",
      "text/plain": [
       "<Figure size 640x480 with 1 Axes>"
      ]
     },
     "metadata": {},
     "output_type": "display_data"
    }
   ],
   "source": [
    "sns.countplot(data=X_train_new, x=\"labels\")"
   ]
  },
  {
   "cell_type": "markdown",
   "id": "ad19b4a7",
   "metadata": {},
   "source": [
    "# The dataset is highly imbalanced.\n",
    "\n",
    "To solve this problem. First we'll remove the zero class(no activity). Then we'll use SMOTE to oversample the data.  "
   ]
  },
  {
   "cell_type": "code",
   "execution_count": 19,
   "id": "5b9d7011",
   "metadata": {},
   "outputs": [],
   "source": [
    "# Remove zero class\n",
    "dell = X_train_new.index[X_train_new['labels'] == 0.0].tolist()\n",
    "X_train_new.drop(dell, axis=0, inplace=True)"
   ]
  },
  {
   "cell_type": "code",
   "execution_count": 20,
   "id": "c6d44f1b",
   "metadata": {},
   "outputs": [
    {
     "data": {
      "text/plain": [
       "<matplotlib.axes._subplots.AxesSubplot at 0x2a901277408>"
      ]
     },
     "execution_count": 20,
     "metadata": {},
     "output_type": "execute_result"
    },
    {
     "data": {
      "image/png": "[encoded data removed]",
      "text/plain": [
       "<Figure size 640x480 with 1 Axes>"
      ]
     },
     "metadata": {},
     "output_type": "display_data"
    }
   ],
   "source": [
    "sns.countplot(data=X_train_new, x=\"labels\")"
   ]
  },
  {
   "cell_type": "markdown",
   "id": "b8639196",
   "metadata": {},
   "source": [
    "# Oversample"
   ]
  },
  {
   "cell_type": "code",
   "execution_count": 21,
   "id": "43516cea",
   "metadata": {},
   "outputs": [],
   "source": [
    "# oversample and shuffle\n",
    "from imblearn.over_sampling import SMOTE\n",
    "from collections import Counter\n",
    "from sklearn.utils import shuffle\n",
    "def handle_imblanace_shuffle(data_x, data_y):\n",
    "    \n",
    "    counter = Counter(data_y)\n",
    "    print(\"Unbalanced dataset \")\n",
    "    print(counter)\n",
    "    # define pipeline\n",
    "    oversample = SMOTE()\n",
    "    X, labels = oversample.fit_resample(data_x, data_y)\n",
    "    # summarize the new class distribution\n",
    "    counter = Counter(labels)\n",
    "    print(\"\\n\\nBalanced dataset \")\n",
    "    print(counter)\n",
    "    #X_n, y_n = shuffle(X, labels)\n",
    "    train_x_new = pd.concat([X, labels], axis=1, join=\"inner\")\n",
    "    return train_x_new\n"
   ]
  },
  {
   "cell_type": "code",
   "execution_count": 22,
   "id": "d3b324cf",
   "metadata": {},
   "outputs": [
    {
     "name": "stdout",
     "output_type": "stream",
     "text": [
      "Unbalanced dataset \n",
      "Counter({1.0: 2925, 7.0: 2853, 4.0: 1716, 3.0: 1044, 5.0: 249, 2.0: 232, 6.0: 227})\n",
      "\n",
      "\n",
      "Balanced dataset \n",
      "Counter({1.0: 2925, 2.0: 2925, 3.0: 2925, 4.0: 2925, 5.0: 2925, 6.0: 2925, 7.0: 2925})\n"
     ]
    }
   ],
   "source": [
    "X_train_new_data = handle_imblanace_shuffle(X_train_new.loc[:, X_train_new.columns != 'labels'],X_train_new['labels'])"
   ]
  },
  {
   "cell_type": "code",
   "execution_count": 23,
   "id": "13c6ba6e",
   "metadata": {},
   "outputs": [
    {
     "data": {
      "text/plain": [
       "<matplotlib.axes._subplots.AxesSubplot at 0x2a966d6bcc8>"
      ]
     },
     "execution_count": 23,
     "metadata": {},
     "output_type": "execute_result"
    },
    {
     "data": {
      "image/png": "[encoded data removed]",
      "text/plain": [
       "<Figure size 640x480 with 1 Axes>"
      ]
     },
     "metadata": {},
     "output_type": "display_data"
    }
   ],
   "source": [
    "#labbb = pd.DataFrame(Y_balanced, columns = ['Labels'])\n",
    "sns.countplot(data=X_train_new_data, x=\"labels\")"
   ]
  },
  {
   "cell_type": "code",
   "execution_count": 24,
   "id": "a14260a7",
   "metadata": {},
   "outputs": [],
   "source": [
    "X, Y= X_train_new_data.loc[:, X_train_new_data.columns != 'labels'].to_numpy(), X_train_new_data['labels'].to_numpy()\n",
    "Y = Y-1"
   ]
  },
  {
   "cell_type": "code",
   "execution_count": 25,
   "id": "6ddedfc0",
   "metadata": {
    "scrolled": true
   },
   "outputs": [
    {
     "data": {
      "text/plain": [
       "XGBClassifier(base_score=0.5, booster='gbtree', callbacks=None,\n",
       "              colsample_bylevel=1, colsample_bynode=1, colsample_bytree=1,\n",
       "              early_stopping_rounds=None, enable_categorical=False,\n",
       "              eval_metric=None, gamma=0, gpu_id=-1, grow_policy='depthwise',\n",
       "              importance_type=None, interaction_constraints='',\n",
       "              learning_rate=0.1, max_bin=256, max_cat_to_onehot=4,\n",
       "              max_delta_step=0, max_depth=8, max_leaves=0, min_child_weight=1,\n",
       "              missing=nan, monotone_constraints='()', n_estimators=180,\n",
       "              n_jobs=0, num_parallel_tree=1, objective='multi:softprob',\n",
       "              predictor='auto', random_state=0, reg_alpha=0, ...)"
      ]
     },
     "execution_count": 25,
     "metadata": {},
     "output_type": "execute_result"
    }
   ],
   "source": [
    "import xgboost as xgb\n",
    "from sklearn import datasets\n",
    "from sklearn.model_selection import train_test_split\n",
    "from sklearn.preprocessing import LabelEncoder \n",
    "from xgboost import XGBClassifier\n",
    "from sklearn.metrics import accuracy_score\n",
    "from sklearn.metrics import confusion_matrix\n",
    "from sklearn.metrics import classification_report\n",
    "\n",
    "X_train, X_test, y_train, y_test = train_test_split(X,Y, test_size=0.30, random_state=5)\n",
    "\n",
    "\n",
    "model = XGBClassifier(n_estimators = 180, max_depth=8, learning_rate=0.1 ) \n",
    "\n",
    "model.fit(X_train, y_train)\n"
   ]
  },
  {
   "cell_type": "code",
   "execution_count": 26,
   "id": "3cfe6809",
   "metadata": {},
   "outputs": [
    {
     "data": {
      "text/plain": [
       "['model-deploy.joblib']"
      ]
     },
     "execution_count": 26,
     "metadata": {},
     "output_type": "execute_result"
    }
   ],
   "source": [
    "import joblib\n",
    "joblib.dump(model, 'model-deploy.joblib')"
   ]
  },
  {
   "cell_type": "code",
   "execution_count": 30,
   "id": "a89b921d",
   "metadata": {},
   "outputs": [
    {
     "data": {
      "image/png": "[encoded data removed]",
      "text/plain": [
       "<Figure size 640x480 with 1 Axes>"
      ]
     },
     "metadata": {},
     "output_type": "display_data"
    }
   ],
   "source": [
    "from numpy import loadtxt\n",
    "from xgboost import XGBClassifier\n",
    "from xgboost import plot_importance\n",
    "from matplotlib import pyplot\n",
    "plot_importance(model)\n",
    "pyplot.show()"
   ]
  },
  {
   "cell_type": "code",
   "execution_count": 31,
   "id": "a6e4dd57",
   "metadata": {},
   "outputs": [
    {
     "data": {
      "text/plain": [
       "(1, 18)"
      ]
     },
     "execution_count": 31,
     "metadata": {},
     "output_type": "execute_result"
    }
   ],
   "source": [
    "X_test[0,None].shape"
   ]
  },
  {
   "cell_type": "code",
   "execution_count": 33,
   "id": "3a895045",
   "metadata": {},
   "outputs": [
    {
     "name": "stdout",
     "output_type": "stream",
     "text": [
      "Accuracy: 94.51%\n"
     ]
    }
   ],
   "source": [
    "from sklearn.preprocessing import LabelEncoder\n",
    "from keras.utils import np_utils\n",
    "encoder = LabelEncoder()\n",
    "encoder.fit(y_test)\n",
    "encoded_Y = encoder.transform(y_test)\n",
    "dummy_y = np_utils.to_categorical(encoded_Y)\n",
    "\n",
    "\n",
    "y_pred = model.predict(X_test) \n",
    "\n",
    "predictions = [round(value) for value in y_pred]\n",
    "\n",
    "accuracy = accuracy_score(y_test, predictions) \n",
    "\n",
    "print(\"Accuracy: %.2f%%\" % (accuracy * 100.0))"
   ]
  },
  {
   "cell_type": "code",
   "execution_count": 34,
   "id": "c371401d",
   "metadata": {},
   "outputs": [
    {
     "data": {
      "image/png": "[encoded data removed]",
      "text/plain": [
       "<Figure size 1000x600 with 2 Axes>"
      ]
     },
     "metadata": {},
     "output_type": "display_data"
    }
   ],
   "source": [
    "cm = confusion_matrix(y_test, y_pred)\n",
    "cm_df = pd.DataFrame(cm,\n",
    "                     index = ['Working at Computer','Standing Up, Walking and Going up\\down stairs','Standing','Walking','Going Up\\Down Stairs','Walking and Talking with Someone','Talking while Standing'], \n",
    "                     columns = ['Working at Computer','Standing Up, Walking and Going up\\down stairs','Standing','Walking','Going Up\\Down Stairs','Walking and Talking with Someone','Talking while Standing'])\n",
    "\n",
    "#Plotting the confusion matrix\n",
    "plt.figure(figsize=(10,6))\n",
    "sns.heatmap(cm_df, annot=True, fmt=\".1f\")\n",
    "plt.title('Confusion Matrix')\n",
    "plt.ylabel('Actual Values')\n",
    "plt.xlabel('Predicted Values')\n",
    "plt.show()\n"
   ]
  },
  {
   "cell_type": "code",
   "execution_count": 35,
   "id": "356ecf12",
   "metadata": {
    "scrolled": false
   },
   "outputs": [
    {
     "name": "stdout",
     "output_type": "stream",
     "text": [
      "\n",
      "Accuracy: 0.95\n",
      "\n",
      "Micro Precision: 0.95\n",
      "Micro Recall: 0.95\n",
      "Micro F1-score: 0.95\n",
      "\n",
      "Macro Precision: 0.95\n",
      "Macro Recall: 0.95\n",
      "Macro F1-score: 0.95\n",
      "\n",
      "Weighted Precision: 0.95\n",
      "Weighted Recall: 0.95\n",
      "Weighted F1-score: 0.94\n",
      "\n",
      "Classification Report\n",
      "\n",
      "              precision    recall  f1-score   support\n",
      "\n",
      "     Class 1       0.97      0.94      0.95       856\n",
      "     Class 2       0.94      0.98      0.96       853\n",
      "     Class 3       0.91      0.88      0.89       886\n",
      "     Class 4       0.94      0.95      0.95       873\n",
      "     Class 5       0.98      0.97      0.98       896\n",
      "     Class 6       0.96      0.99      0.97       863\n",
      "     Class 7       0.92      0.91      0.91       916\n",
      "\n",
      "    accuracy                           0.95      6143\n",
      "   macro avg       0.95      0.95      0.95      6143\n",
      "weighted avg       0.95      0.95      0.94      6143\n",
      "\n"
     ]
    }
   ],
   "source": [
    "#importing accuracy_score, precision_score, recall_score, f1_score\n",
    "from sklearn.metrics import accuracy_score, precision_score, recall_score, f1_score\n",
    "print('\\nAccuracy: {:.2f}\\n'.format(accuracy_score(y_test, y_pred)))\n",
    "\n",
    "print('Micro Precision: {:.2f}'.format(precision_score(y_test, y_pred, average='micro')))\n",
    "print('Micro Recall: {:.2f}'.format(recall_score(y_test, y_pred, average='micro')))\n",
    "print('Micro F1-score: {:.2f}\\n'.format(f1_score(y_test, y_pred, average='micro')))\n",
    "\n",
    "print('Macro Precision: {:.2f}'.format(precision_score(y_test, y_pred, average='macro')))\n",
    "print('Macro Recall: {:.2f}'.format(recall_score(y_test, y_pred, average='macro')))\n",
    "print('Macro F1-score: {:.2f}\\n'.format(f1_score(y_test, y_pred, average='macro')))\n",
    "\n",
    "print('Weighted Precision: {:.2f}'.format(precision_score(y_test, y_pred, average='weighted')))\n",
    "print('Weighted Recall: {:.2f}'.format(recall_score(y_test, y_pred, average='weighted')))\n",
    "print('Weighted F1-score: {:.2f}'.format(f1_score(y_test, y_pred, average='weighted')))\n",
    "\n",
    "from sklearn.metrics import classification_report\n",
    "print('\\nClassification Report\\n')\n",
    "print(classification_report(y_test, y_pred, target_names=[ 'Class 1', 'Class 2','Class 3', 'Class 4','Class 5', 'Class 6', 'Class 7']))"
   ]
  },
  {
   "cell_type": "markdown",
   "id": "4f3a7bfc",
   "metadata": {},
   "source": [
    "# SVM\n"
   ]
  },
  {
   "cell_type": "code",
   "execution_count": 36,
   "id": "20bd411d",
   "metadata": {},
   "outputs": [],
   "source": [
    "X, Y= X_train_new_data.loc[:, X_train_new_data.columns != 'labels'].to_numpy(), X_train_new_data['labels'].to_numpy()\n",
    "Y = Y-1"
   ]
  },
  {
   "cell_type": "code",
   "execution_count": 37,
   "id": "e19820bf",
   "metadata": {},
   "outputs": [
    {
     "name": "stdout",
     "output_type": "stream",
     "text": [
      "Accuracy: 93.54%\n",
      "\n",
      "Accuracy: 0.94\n",
      "\n",
      "Micro Precision: 0.94\n",
      "Micro Recall: 0.94\n",
      "Micro F1-score: 0.94\n",
      "\n",
      "Macro Precision: 0.94\n",
      "Macro Recall: 0.94\n",
      "Macro F1-score: 0.94\n",
      "\n",
      "Weighted Precision: 0.94\n",
      "Weighted Recall: 0.94\n",
      "Weighted F1-score: 0.94\n",
      "\n",
      "Classification Report\n",
      "\n",
      "              precision    recall  f1-score   support\n",
      "\n",
      "     Class 1       0.95      0.85      0.90       856\n",
      "     Class 2       0.97      0.98      0.97       853\n",
      "     Class 3       0.92      0.92      0.92       886\n",
      "     Class 4       0.99      0.93      0.96       873\n",
      "     Class 5       0.99      0.99      0.99       896\n",
      "     Class 6       0.97      0.99      0.98       863\n",
      "     Class 7       0.79      0.89      0.84       916\n",
      "\n",
      "    accuracy                           0.94      6143\n",
      "   macro avg       0.94      0.94      0.94      6143\n",
      "weighted avg       0.94      0.94      0.94      6143\n",
      "\n"
     ]
    }
   ],
   "source": [
    "import xgboost as xgb\n",
    "from sklearn import datasets\n",
    "from sklearn.model_selection import train_test_split\n",
    "from sklearn.preprocessing import LabelEncoder \n",
    "from xgboost import XGBClassifier\n",
    "from sklearn.metrics import accuracy_score\n",
    "from sklearn.metrics import confusion_matrix\n",
    "from sklearn.metrics import classification_report\n",
    "#Importing the necessary packages and libaries\n",
    "from sklearn.metrics import confusion_matrix\n",
    "from sklearn.model_selection import train_test_split\n",
    "from sklearn import svm, datasets\n",
    "import matplotlib.pyplot as plt\n",
    "import numpy as np\n",
    "\n",
    "\n",
    "X_train, X_test, y_train, y_test = train_test_split(X,Y, test_size=0.30, random_state=5)\n",
    "\n",
    "rbf = svm.SVC(kernel='rbf', gamma=1, C=100, decision_function_shape='ovo').fit(X_train, y_train)\n",
    "\"\"\"sig = svm.SVC(kernel='sigmoid', C=1, decision_function_shape='ovo').fit(X_train, y_train)\n",
    "linear = svm.SVC(kernel='linear', C=1, decision_function_shape='ovo').fit(X_train, y_train)\n",
    "poly = svm.SVC(kernel='poly', degree=3, C=1, decision_function_shape='ovo').fit(X_train, y_train)\"\"\"\n",
    "\n",
    "\n",
    "from sklearn.preprocessing import LabelEncoder\n",
    "from keras.utils import np_utils\n",
    "encoder = LabelEncoder()\n",
    "encoder.fit(y_test)\n",
    "encoded_Y = encoder.transform(y_test)\n",
    "dummy_y = np_utils.to_categorical(encoded_Y)\n",
    "\n",
    "\n",
    "y_pred = rbf.predict(X_test) \n",
    "\n",
    "predictions = [round(value) for value in y_pred]\n",
    "\n",
    "accuracy = accuracy_score(y_test, predictions) \n",
    "\n",
    "print(\"Accuracy: %.2f%%\" % (accuracy * 100.0))\n",
    "#importing accuracy_score, precision_score, recall_score, f1_score\n",
    "from sklearn.metrics import accuracy_score, precision_score, recall_score, f1_score\n",
    "print('\\nAccuracy: {:.2f}\\n'.format(accuracy_score(y_test, y_pred)))\n",
    "\n",
    "print('Micro Precision: {:.2f}'.format(precision_score(y_test, y_pred, average='micro')))\n",
    "print('Micro Recall: {:.2f}'.format(recall_score(y_test, y_pred, average='micro')))\n",
    "print('Micro F1-score: {:.2f}\\n'.format(f1_score(y_test, y_pred, average='micro')))\n",
    "\n",
    "print('Macro Precision: {:.2f}'.format(precision_score(y_test, y_pred, average='macro')))\n",
    "print('Macro Recall: {:.2f}'.format(recall_score(y_test, y_pred, average='macro')))\n",
    "print('Macro F1-score: {:.2f}\\n'.format(f1_score(y_test, y_pred, average='macro')))\n",
    "\n",
    "print('Weighted Precision: {:.2f}'.format(precision_score(y_test, y_pred, average='weighted')))\n",
    "print('Weighted Recall: {:.2f}'.format(recall_score(y_test, y_pred, average='weighted')))\n",
    "print('Weighted F1-score: {:.2f}'.format(f1_score(y_test, y_pred, average='weighted')))\n",
    "\n",
    "from sklearn.metrics import classification_report\n",
    "print('\\nClassification Report\\n')\n",
    "print(classification_report(y_test, y_pred, target_names=[ 'Class 1', 'Class 2','Class 3', 'Class 4','Class 5', 'Class 6', 'Class 7']))"
   ]
  },
  {
   "cell_type": "markdown",
   "id": "a1539d31",
   "metadata": {},
   "source": [
    "# DNN "
   ]
  },
  {
   "cell_type": "code",
   "execution_count": null,
   "id": "3543220b",
   "metadata": {},
   "outputs": [
    {
     "name": "stdout",
     "output_type": "stream",
     "text": [
      "(20475, 7)\n",
      "Model: \"sequential_2\"\n",
      "_________________________________________________________________\n",
      " Layer (type)                Output Shape              Param #   \n",
      "=================================================================\n",
      " dense_8 (Dense)             (None, 64)                1216      \n",
      "                                                                 \n",
      " dense_9 (Dense)             (None, 64)                4160      \n",
      "                                                                 \n",
      " dense_10 (Dense)            (None, 64)                4160      \n",
      "                                                                 \n",
      " dense_11 (Dense)            (None, 7)                 455       \n",
      "                                                                 \n",
      "=================================================================\n",
      "Total params: 9,991\n",
      "Trainable params: 9,991\n",
      "Non-trainable params: 0\n",
      "_________________________________________________________________\n",
      "Epoch 1/80\n",
      "1638/1638 [==============================] - 10s 6ms/step - loss: 1.1251 - accuracy: 0.5734 - val_loss: 2.8626 - val_accuracy: 0.1639\n",
      "Epoch 2/80\n",
      "1638/1638 [==============================] - 9s 6ms/step - loss: 0.8140 - accuracy: 0.7041 - val_loss: 2.2704 - val_accuracy: 0.2540\n",
      "Epoch 3/80\n",
      "1638/1638 [==============================] - 10s 6ms/step - loss: 0.6967 - accuracy: 0.7394 - val_loss: 2.3436 - val_accuracy: 0.2237\n",
      "Epoch 4/80\n",
      "1638/1638 [==============================] - 10s 6ms/step - loss: 0.6239 - accuracy: 0.7679 - val_loss: 2.0354 - val_accuracy: 0.2728\n",
      "Epoch 5/80\n",
      "1638/1638 [==============================] - 10s 6ms/step - loss: 0.5679 - accuracy: 0.7869 - val_loss: 1.9009 - val_accuracy: 0.3311\n",
      "Epoch 6/80\n",
      "1638/1638 [==============================] - 10s 6ms/step - loss: 0.5260 - accuracy: 0.8015 - val_loss: 1.4259 - val_accuracy: 0.4816\n",
      "Epoch 7/80\n",
      "1638/1638 [==============================] - 10s 6ms/step - loss: 0.4891 - accuracy: 0.8181 - val_loss: 1.5825 - val_accuracy: 0.4002\n",
      "Epoch 8/80\n",
      "1638/1638 [==============================] - 11s 7ms/step - loss: 0.4591 - accuracy: 0.8289 - val_loss: 1.4290 - val_accuracy: 0.4606\n",
      "Epoch 9/80\n",
      "1638/1638 [==============================] - 10s 6ms/step - loss: 0.4346 - accuracy: 0.8383 - val_loss: 1.5777 - val_accuracy: 0.4593\n",
      "Epoch 10/80\n",
      "1638/1638 [==============================] - 9s 5ms/step - loss: 0.4163 - accuracy: 0.8460 - val_loss: 1.0453 - val_accuracy: 0.5963\n",
      "Epoch 11/80\n",
      "1638/1638 [==============================] - 9s 5ms/step - loss: 0.3931 - accuracy: 0.8548 - val_loss: 1.2915 - val_accuracy: 0.5446\n",
      "Epoch 12/80\n",
      "1638/1638 [==============================] - 9s 5ms/step - loss: 0.3716 - accuracy: 0.8614 - val_loss: 0.9976 - val_accuracy: 0.6274\n",
      "Epoch 13/80\n",
      "1638/1638 [==============================] - 9s 6ms/step - loss: 0.3607 - accuracy: 0.8675 - val_loss: 1.2381 - val_accuracy: 0.5363\n",
      "Epoch 14/80\n",
      "1638/1638 [==============================] - 9s 5ms/step - loss: 0.3456 - accuracy: 0.8744 - val_loss: 1.0416 - val_accuracy: 0.6415\n",
      "Epoch 15/80\n",
      "1638/1638 [==============================] - 9s 6ms/step - loss: 0.3334 - accuracy: 0.8779 - val_loss: 1.2268 - val_accuracy: 0.5844\n",
      "Epoch 16/80\n",
      "1638/1638 [==============================] - 9s 6ms/step - loss: 0.3190 - accuracy: 0.8847 - val_loss: 1.1311 - val_accuracy: 0.5634\n",
      "Epoch 17/80\n",
      "1638/1638 [==============================] - 9s 5ms/step - loss: 0.3031 - accuracy: 0.8890 - val_loss: 1.2992 - val_accuracy: 0.5267\n",
      "Epoch 18/80\n",
      "1638/1638 [==============================] - 9s 6ms/step - loss: 0.2983 - accuracy: 0.8896 - val_loss: 1.3433 - val_accuracy: 0.5321\n",
      "Epoch 19/80\n",
      "1638/1638 [==============================] - 9s 5ms/step - loss: 0.2862 - accuracy: 0.8969 - val_loss: 1.2320 - val_accuracy: 0.5394\n",
      "Epoch 20/80\n",
      "1638/1638 [==============================] - 10s 6ms/step - loss: 0.2831 - accuracy: 0.8957 - val_loss: 0.9186 - val_accuracy: 0.6657\n",
      "Epoch 21/80\n",
      "1638/1638 [==============================] - 9s 5ms/step - loss: 0.2716 - accuracy: 0.9021 - val_loss: 1.3760 - val_accuracy: 0.5553\n",
      "Epoch 22/80\n",
      "1638/1638 [==============================] - 9s 6ms/step - loss: 0.2626 - accuracy: 0.9035 - val_loss: 1.1560 - val_accuracy: 0.6151\n",
      "Epoch 23/80\n",
      "1638/1638 [==============================] - 9s 6ms/step - loss: 0.2691 - accuracy: 0.9016 - val_loss: 0.8439 - val_accuracy: 0.6838\n",
      "Epoch 24/80\n",
      "1638/1638 [==============================] - 9s 6ms/step - loss: 0.2539 - accuracy: 0.9085 - val_loss: 0.8982 - val_accuracy: 0.6491\n",
      "Epoch 25/80\n",
      "1638/1638 [==============================] - 9s 6ms/step - loss: 0.2443 - accuracy: 0.9078 - val_loss: 1.0783 - val_accuracy: 0.5958\n",
      "Epoch 26/80\n",
      "1638/1638 [==============================] - 9s 5ms/step - loss: 0.2385 - accuracy: 0.9134 - val_loss: 1.1216 - val_accuracy: 0.5922\n",
      "Epoch 27/80\n",
      "  34/1638 [..............................] - ETA: 7s - loss: 0.2319 - accuracy: 0.8941"
     ]
    }
   ],
   "source": [
    "from keras.wrappers.scikit_learn import KerasClassifier\n",
    "from keras.utils import np_utils\n",
    "import keras\n",
    "from keras.callbacks import EarlyStopping\n",
    "# for modeling\n",
    "from keras.models import Sequential\n",
    "from keras.layers import Dense, Dropout\n",
    "from sklearn.preprocessing import LabelEncoder\n",
    "from keras.callbacks import EarlyStopping\n",
    "\n",
    "X, Y= X_train_new_data.loc[:, X_train_new_data.columns != 'labels'].to_numpy(), X_train_new_data['labels'].to_numpy()\n",
    "Y = Y-1\n",
    "\n",
    "# work with labels\n",
    "# encode class values as integers\n",
    "encoder = LabelEncoder()\n",
    "encoder.fit(Y)\n",
    "encoded_Y = encoder.transform(Y)\n",
    "# convert integers to dummy variables (i.e. one hot encoded)\n",
    "dummy_y = np_utils.to_categorical(encoded_Y)\n",
    "\n",
    "print(dummy_y.shape)\n",
    "\n",
    "# build a model\n",
    "model = Sequential()\n",
    "model.add(Dense(64, input_shape=(X.shape[1],), activation='relu')) \n",
    "model.add(Dense(64,  activation='relu'))\n",
    "model.add(Dense(64,  activation='relu'))\n",
    "model.add(Dense(7, activation='softmax'))\n",
    "model.summary()\n",
    "\n",
    "# compile the model\n",
    "model.compile(optimizer='adam', \n",
    "              loss='categorical_crossentropy', \n",
    "              metrics=['accuracy'])\n",
    "\n",
    "\n",
    "\n",
    "\n",
    "# early stopping callback\n",
    "# This callback will stop the training when there is no improvement in  \n",
    "# the validation loss for 10 consecutive epochs.  \n",
    "es = keras.callbacks.EarlyStopping(monitor='val_loss', \n",
    "                                   mode='min',\n",
    "                                   patience=10, \n",
    "                                   restore_best_weights=True) # important - otherwise you just return the last weigths...\n",
    "\n",
    "# now we just update our model fit call\n",
    "history = model.fit(X,\n",
    "                    dummy_y,\n",
    "                    callbacks=[es],\n",
    "                    epochs=80, # you can set this to a big number!\n",
    "                    batch_size=10,\n",
    "                    shuffle=True,\n",
    "                    validation_split=0.2,\n",
    "                    verbose=1)\n",
    "\n",
    "history_dict = history.history\n",
    "\n",
    "# learning curve\n",
    "# accuracy\n",
    "acc = history_dict['accuracy']\n",
    "val_acc = history_dict['val_accuracy']\n",
    "\n",
    "# loss\n",
    "loss = history_dict['loss']\n",
    "val_loss = history_dict['val_loss']\n",
    "\n",
    "# range of X (no. of epochs)\n",
    "epochs = range(1, len(acc) + 1)\n",
    "\n",
    "# plot\n",
    "# \"r\" is for \"solid red line\"\n",
    "plt.plot(epochs, acc, 'r', label='Training accuracy')\n",
    "# b is for \"solid blue line\"\n",
    "plt.plot(epochs, val_acc, 'b', label='Validation accuracy')\n",
    "plt.title('Training and validation accuracy')\n",
    "plt.xlabel('Epochs')\n",
    "plt.ylabel('Accuracy')\n",
    "plt.legend()\n",
    "\n",
    "plt.show()\n"
   ]
  },
  {
   "cell_type": "code",
   "execution_count": null,
   "id": "d57a7c95",
   "metadata": {},
   "outputs": [],
   "source": [
    "from sklearn.metrics import confusion_matrix\n",
    "from sklearn.metrics import classification_report\n",
    "\n",
    "preds = model.predict(X) # see how the model did!\n",
    "print(preds[0]) # i'm spreading that prediction across three nodes and they sum to 1\n",
    "print(np.sum(preds[0])) # sum it up! Should be 1\n",
    "\n",
    "\n",
    "matrix = confusion_matrix(dummy_y.argmax(axis=1), preds.argmax(axis=1))\n",
    "\n",
    "# more detail on how well things were predicted\n",
    "print(classification_report(dummy_y.argmax(axis=1), preds.argmax(axis=1)))\n"
   ]
  },
  {
   "cell_type": "code",
   "execution_count": null,
   "id": "91d3cd99",
   "metadata": {},
   "outputs": [],
   "source": []
  }
 ],
 "metadata": {
  "kernelspec": {
   "display_name": "Python 3 (ipykernel)",
   "language": "python",
   "name": "python3"
  },
  "language_info": {
   "codemirror_mode": {
    "name": "ipython",
    "version": 3
   },
   "file_extension": ".py",
   "mimetype": "text/x-python",
   "name": "python",
   "nbconvert_exporter": "python",
   "pygments_lexer": "ipython3",
   "version": "3.7.13"
  }
 },
 "nbformat": 4,
 "nbformat_minor": 5
}
